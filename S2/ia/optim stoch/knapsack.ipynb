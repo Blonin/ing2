{
 "cells": [
  {
   "cell_type": "code",
   "execution_count": 54,
   "metadata": {},
   "outputs": [],
   "source": [
    "import random\n",
    "import matplotlib.pyplot as plt"
   ]
  },
  {
   "attachments": {},
   "cell_type": "markdown",
   "metadata": {},
   "source": [
    "# Problème du sac à dos"
   ]
  },
  {
   "cell_type": "code",
   "execution_count": 55,
   "metadata": {},
   "outputs": [],
   "source": [
    "x = []\n",
    "v = []\n",
    "w = []\n",
    "with open(\"data/ks_30_0\", \"r\") as f:\n",
    "    i = 0;\n",
    "    for line in f:\n",
    "        line_list = line.strip().split(\" \")\n",
    "        if(i == 0):\n",
    "            n = int(line_list[0])\n",
    "            k = int(line_list[1])\n",
    "        else :\n",
    "            x.append(0)\n",
    "            v.append(int(line_list[0]))\n",
    "            w.append(int(line_list[1]))\n",
    "        i += 1"
   ]
  },
  {
   "cell_type": "code",
   "execution_count": 56,
   "metadata": {},
   "outputs": [],
   "source": [
    "def reset_x(x, n):\n",
    "    for i in range(n):\n",
    "        x[i] = 0\n",
    "    return(x)"
   ]
  },
  {
   "cell_type": "code",
   "execution_count": 57,
   "metadata": {},
   "outputs": [],
   "source": [
    "def total_value(x, v):\n",
    "    res = 0\n",
    "    for i in range(n):\n",
    "        res += x[i] * v[i]\n",
    "    return(res)"
   ]
  },
  {
   "cell_type": "code",
   "execution_count": 58,
   "metadata": {},
   "outputs": [],
   "source": [
    "def total_weight(x, w):\n",
    "    res = 0\n",
    "    for i in range(n):\n",
    "        res += x[i] * w[i]\n",
    "    return(res)"
   ]
  },
  {
   "attachments": {},
   "cell_type": "markdown",
   "metadata": {},
   "source": [
    "## Méthode aléatoire"
   ]
  },
  {
   "cell_type": "code",
   "execution_count": 70,
   "metadata": {},
   "outputs": [],
   "source": [
    "def alea_method(x, v, w, n, k):\n",
    "\n",
    "    for i in range(n):\n",
    "        x[i] = random.randint(0,1)\n",
    "\n",
    "    while(total_weight(x, w) > k):\n",
    "        wasRemoved = False\n",
    "        while(not wasRemoved):\n",
    "            indice = random.randint(0, n-1)\n",
    "            if x[indice] == 1 :\n",
    "                x[indice] = 0\n",
    "                wasRemoved = True\n",
    "    \n",
    "    return(x)\n"
   ]
  },
  {
   "cell_type": "code",
   "execution_count": 71,
   "metadata": {},
   "outputs": [
    {
     "name": "stdout",
     "output_type": "stream",
     "text": [
      "99763\n"
     ]
    }
   ],
   "source": [
    "max_value = 0\n",
    "for _ in range(100):\n",
    "    value = total_value(alea_method(x, v, w, n, k), v)\n",
    "    if value > max_value :\n",
    "        max_value = value\n",
    "\n",
    "print(max_value)"
   ]
  },
  {
   "attachments": {},
   "cell_type": "markdown",
   "metadata": {},
   "source": [
    "## Trier les objects par valeur"
   ]
  },
  {
   "cell_type": "code",
   "execution_count": 61,
   "metadata": {},
   "outputs": [],
   "source": [
    "def sort_values_method(x, v, w, n, k):\n",
    "\n",
    "    sorted_v = sorted(v)\n",
    "\n",
    "    for i in range(n):\n",
    "\n",
    "        best_value = sorted_v[i]\n",
    "        for idx, value in enumerate(v) :\n",
    "            if value == best_value:\n",
    "                best_indice = idx\n",
    "            \n",
    "        x_tmp = x.copy()\n",
    "        x_tmp[best_indice] = 1\n",
    "\n",
    "        \n",
    "        if total_weight(x_tmp, w) <= k:\n",
    "            x[best_indice] = 1\n",
    "    \n",
    "    return(x)"
   ]
  },
  {
   "cell_type": "code",
   "execution_count": 62,
   "metadata": {},
   "outputs": [
    {
     "data": {
      "text/plain": [
       "99045"
      ]
     },
     "execution_count": 62,
     "metadata": {},
     "output_type": "execute_result"
    }
   ],
   "source": [
    "x = reset_x(x, n)\n",
    "value = total_value(sort_values_method(x, v, w, n, k), v)\n",
    "value"
   ]
  },
  {
   "attachments": {},
   "cell_type": "markdown",
   "metadata": {},
   "source": [
    "## Trier les objets par poids"
   ]
  },
  {
   "cell_type": "code",
   "execution_count": 63,
   "metadata": {},
   "outputs": [],
   "source": [
    "def sort_weights_method(x, v, w, n, k):\n",
    "\n",
    "    sorted_w = sorted(w)\n",
    "\n",
    "    for i in range(n):\n",
    "\n",
    "        best_weight = sorted_w[i]\n",
    "        for idx, weight in enumerate(w) :\n",
    "            if weight == best_weight:\n",
    "                best_indice = idx\n",
    "            \n",
    "        x_tmp = x.copy()\n",
    "        x_tmp[best_indice] = 1\n",
    "\n",
    "        \n",
    "        if total_weight(x_tmp, w) <= k:\n",
    "            x[best_indice] = 1\n",
    "    \n",
    "    return(x)"
   ]
  },
  {
   "cell_type": "code",
   "execution_count": 64,
   "metadata": {},
   "outputs": [
    {
     "data": {
      "text/plain": [
       "99045"
      ]
     },
     "execution_count": 64,
     "metadata": {},
     "output_type": "execute_result"
    }
   ],
   "source": [
    "x = reset_x(x, n)\n",
    "value = total_value(sort_weights_method(x, v, w, n, k), v)\n",
    "value"
   ]
  },
  {
   "attachments": {},
   "cell_type": "markdown",
   "metadata": {},
   "source": [
    "## Trier les objets par densité"
   ]
  },
  {
   "cell_type": "code",
   "execution_count": 75,
   "metadata": {},
   "outputs": [],
   "source": [
    "def sort_density_method(x, v, w, n, k):\n",
    "\n",
    "    d = []\n",
    "    for i in range(n):\n",
    "        d.append(v[i] / w[i])\n",
    "\n",
    "    sorted_d = sorted(d)\n",
    "\n",
    "    for i in range(n):\n",
    "\n",
    "        best_density = sorted_d[i]\n",
    "        for idx, density in enumerate(d) :\n",
    "            if density == best_density:\n",
    "                best_indice = idx\n",
    "            \n",
    "        x_tmp = x.copy()\n",
    "        x_tmp[best_indice] = 1\n",
    "\n",
    "        \n",
    "        if total_weight(x_tmp, w) <= k:\n",
    "            x[best_indice] = 1\n",
    "    \n",
    "    return(x)"
   ]
  },
  {
   "cell_type": "code",
   "execution_count": 76,
   "metadata": {},
   "outputs": [
    {
     "data": {
      "text/plain": [
       "99084"
      ]
     },
     "execution_count": 76,
     "metadata": {},
     "output_type": "execute_result"
    }
   ],
   "source": [
    "x = reset_x(x, n)\n",
    "value = total_value(sort_density_method(x, v, w, n, k), v)\n",
    "value"
   ]
  },
  {
   "attachments": {},
   "cell_type": "markdown",
   "metadata": {},
   "source": [
    "## Algorithme de LAHC"
   ]
  },
  {
   "cell_type": "code",
   "execution_count": 72,
   "metadata": {},
   "outputs": [],
   "source": [
    "def new_neighbor(x, w, k):\n",
    "\n",
    "    hasChanged = False\n",
    "\n",
    "    while not hasChanged:\n",
    "\n",
    "        x_tmp = x.copy()\n",
    "        indice = random.randint(0, n-1)\n",
    "\n",
    "        if x_tmp[indice] == 0:\n",
    "            x_tmp[indice] = 1\n",
    "        else:\n",
    "            x_tmp[indice] = 0\n",
    "        \n",
    "        if total_weight(x_tmp, w) < k:\n",
    "            x = x_tmp.copy()\n",
    "            hasChanged = True\n",
    "\n",
    "    return(x)"
   ]
  },
  {
   "cell_type": "code",
   "execution_count": 73,
   "metadata": {},
   "outputs": [],
   "source": [
    "def lahc(x, v, w, n, k, n_mem):\n",
    "\n",
    "    x_max = x.copy()\n",
    "\n",
    "    value_max = total_value(x_max, v)\n",
    "\n",
    "    memory = []\n",
    "    for i in range(n_mem):\n",
    "        memory.append(value_max)\n",
    "\n",
    "    convergence_value_max = []\n",
    "\n",
    "    cpt = 1\n",
    "\n",
    "    while cpt < 2000:\n",
    "\n",
    "        value_mem = memory[cpt % n_mem]\n",
    "        neighbor = new_neighbor(x, w, k)\n",
    "        value_neighbor = total_value(neighbor, v)\n",
    "\n",
    "        if value_neighbor > value_mem :\n",
    "            x = neighbor.copy()\n",
    "\n",
    "        memory[cpt % n_mem] = value_neighbor\n",
    "\n",
    "        if value_neighbor > value_max:\n",
    "            x_max = neighbor.copy()\n",
    "            value_max = value_neighbor\n",
    "\n",
    "        convergence_value_max.append(value_max)\n",
    "\n",
    "        cpt += 1\n",
    "\n",
    "    return(x_max, value_max, convergence_value_max)\n",
    "\n"
   ]
  },
  {
   "cell_type": "code",
   "execution_count": 74,
   "metadata": {},
   "outputs": [
    {
     "name": "stdout",
     "output_type": "stream",
     "text": [
      "99798\n"
     ]
    },
    {
     "data": {
      "image/png": "[encoded data removed]",
      "text/plain": [
       "<Figure size 640x480 with 1 Axes>"
      ]
     },
     "metadata": {},
     "output_type": "display_data"
    }
   ],
   "source": [
    "x = reset_x(x, n)\n",
    "x = alea_method(x, v, w, n, k)\n",
    "\n",
    "x_max1, value_max1, convergence_value_max1 = lahc(x, v, w, n, k, 50)\n",
    "\n",
    "x_max2, value_max2, convergence_value_max2 = lahc(x, v, w, n, k, 100)\n",
    "\n",
    "x_max3, value_max3, convergence_value_max3 = lahc(x, v, w, n, k, 250)\n",
    "\n",
    "x_max4, value_max4, convergence_value_max4 = lahc(x, v, w, n, k, 500)\n",
    "\n",
    "x_max5, value_max5, convergence_value_max5 = lahc(x, v, w, n, k, 1000)\n",
    "\n",
    "plt.plot(range(1, 2000), convergence_value_max1, label='50')\n",
    "plt.plot(range(1, 2000), convergence_value_max2, label='100')\n",
    "plt.plot(range(1, 2000), convergence_value_max3, label='250')\n",
    "plt.plot(range(1, 2000), convergence_value_max4, label='500')\n",
    "plt.plot(range(1, 2000), convergence_value_max5, label='1000')\n",
    "\n",
    "print(max(value_max1, value_max2, value_max3, value_max4, value_max5))\n",
    "\n",
    "plt.legend()\n",
    "\n",
    "plt.show()"
   ]
  }
 ],
 "metadata": {
  "kernelspec": {
   "display_name": "Python 3",
   "language": "python",
   "name": "python3"
  },
  "language_info": {
   "codemirror_mode": {
    "name": "ipython",
    "version": 3
   },
   "file_extension": ".py",
   "mimetype": "text/x-python",
   "name": "python",
   "nbconvert_exporter": "python",
   "pygments_lexer": "ipython3",
   "version": "3.10.12"
  },
  "orig_nbformat": 4,
  "vscode": {
   "interpreter": {
    "hash": "f998ce38fb7b93036fa60f244eba33f25225bd123b8451abfbd03f4bf0f3ecc3"
   }
  }
 },
 "nbformat": 4,
 "nbformat_minor": 2
}
